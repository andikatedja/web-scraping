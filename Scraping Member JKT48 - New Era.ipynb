{
 "cells": [
  {
   "cell_type": "markdown",
   "metadata": {},
   "source": [
    "[![Open In Colab](https://colab.research.google.com/assets/colab-badge.svg)](https://colab.research.google.com/github/andikatedja/web-scraping/blob/master/Scraping%20Member%20JKT48%20-%20New%20Era.ipynb)\n",
    "# Scraping sederhana member JKT48 dari website JKT48\n",
    "## Menampilkan list nama member dan trainee - new era"
   ]
  },
  {
   "cell_type": "code",
   "execution_count": 10,
   "metadata": {},
   "outputs": [],
   "source": [
    "import bs4\n",
    "import requests"
   ]
  },
  {
   "cell_type": "code",
   "execution_count": 11,
   "metadata": {
    "tags": []
   },
   "outputs": [
    {
     "name": "stdout",
     "output_type": "stream",
     "text": [
      "[<p class=\"entry-member__name\"><a href=\"/member/detail/id/237?lang=id\">Adzana<br/>Shaliha</a></p>, <p class=\"entry-member__name\"><a href=\"/member/detail/id/204?lang=id\">Angelina<br/>Christy</a></p>, <p class=\"entry-member__name\"><a href=\"/member/detail/id/66?lang=id\">Aninditha<br/>Rahma<br/>Cahyadi</a></p>, <p class=\"entry-member__name\"><a href=\"/member/detail/id/186?lang=id\">Ariella<br/>Calista<br/>Ichwan</a></p>, <p class=\"entry-member__name\"><a href=\"/member/detail/id/200?lang=id\">Azizi<br/>Asadel</a></p>, <p class=\"entry-member__name\"><a href=\"/member/detail/id/134?lang=id\">Cindy Hapsari<br/>Maharani<br/>Pujiantoro Putri</a></p>, <p class=\"entry-member__name\"><a href=\"/member/detail/id/221?lang=id\">Cornelia<br/>Vanisa</a></p>, <p class=\"entry-member__name\"><a href=\"/member/detail/id/208?lang=id\">Dhea<br/>Angelia</a></p>, <p class=\"entry-member__name\"><a href=\"/member/detail/id/171?lang=id\">Eve<br/>Antoinette<br/>Ichwan</a></p>, <p class=\"entry-member__name\"><a href=\"/member/detail/id/213?lang=id\">Febriola<br/>Sinambela</a></p>, <p class=\"entry-member__name\"><a href=\"/member/detail/id/76?lang=id\">Feni<br/>Fitriyanti</a></p>, <p class=\"entry-member__name\"><a href=\"/member/detail/id/223?lang=id\">Fiony<br/>Alveria</a></p>, <p class=\"entry-member__name\"><a href=\"/member/detail/id/234?lang=id\">Flora<br/>Shafiq</a></p>, <p class=\"entry-member__name\"><a href=\"/member/detail/id/77?lang=id\">Fransisca<br/>Saraswati<br/>Puspa Dewi</a></p>, <p class=\"entry-member__name\"><a href=\"/member/detail/id/214?lang=id\">Freya<br/>Jayawardana</a></p>, <p class=\"entry-member__name\"><a href=\"/member/detail/id/12?lang=id\">Gabriela<br/>Margareth<br/>Warouw</a></p>, <p class=\"entry-member__name\"><a href=\"/member/detail/id/190?lang=id\">Gita<br/>Sekar<br/>Andarini</a></p>, <p class=\"entry-member__name\"><a href=\"/member/detail/id/210?lang=id\">Helisma<br/>Putri</a></p>, <p class=\"entry-member__name\"><a href=\"/member/detail/id/241?lang=id\">Indah<br/>Cahya</a></p>, <p class=\"entry-member__name\"><a href=\"/member/detail/id/215?lang=id\">Jessica<br/>Chandra</a></p>, <p class=\"entry-member__name\"><a href=\"/member/detail/id/216?lang=id\">Jesslyn<br/>Callista</a></p>, <p class=\"entry-member__name\"><a href=\"/member/detail/id/144?lang=id\">Jinan<br/>Safa<br/>Safira</a></p>, <p class=\"entry-member__name\"><a href=\"/member/detail/id/242?lang=id\">Kathrina<br/>Irene</a></p>, <p class=\"entry-member__name\"><a href=\"/member/detail/id/228?lang=id\">Lulu<br/>Salsabila</a></p>, <p class=\"entry-member__name\"><a href=\"/member/detail/id/243?lang=id\">Marsha<br/>Lenathea</a></p>, <p class=\"entry-member__name\"><a href=\"/member/detail/id/199?lang=id\">Mutiara<br/>Azzahra</a></p>, <p class=\"entry-member__name\"><a href=\"/member/detail/id/232?lang=id\">Reva<br/>Fidela</a></p>, <p class=\"entry-member__name\"><a href=\"/member/detail/id/112?lang=id\">Shani<br/>Indira<br/>Natio</a></p>, <p class=\"entry-member__name\"><a href=\"/member/detail/id/113?lang=id\">Shania<br/>Gracia</a></p>, <p class=\"entry-member__name\"><a href=\"/member/detail/id/160?lang=id\">Tan Zhi Hui<br/>Celine</a></p>, <p class=\"entry-member__name\"><a href=\"/member/detail/id/209?lang=id\">Yessica<br/>Tamara</a></p>, <p class=\"entry-member__name\"><a href=\"/member/detail/id/248?lang=id\">Alia<br/>Giselle</a></p>, <p class=\"entry-member__name\"><a href=\"/member/detail/id/249?lang=id\">Amanda<br/>Sukma</a></p>, <p class=\"entry-member__name\"><a href=\"/member/detail/id/250?lang=id\">Aurellia</a></p>, <p class=\"entry-member__name\"><a href=\"/member/detail/id/251?lang=id\">Callista<br/>Alifia</a></p>, <p class=\"entry-member__name\"><a href=\"/member/detail/id/252?lang=id\">Gabriela<br/>Abigail</a></p>, <p class=\"entry-member__name\"><a href=\"/member/detail/id/253?lang=id\">Indira<br/>Seruni</a></p>, <p class=\"entry-member__name\"><a href=\"/member/detail/id/254?lang=id\">Jesslyn<br/>Elly</a></p>, <p class=\"entry-member__name\"><a href=\"/member/detail/id/255?lang=id\">Raisha<br/>Syifa</a></p>]\n"
     ]
    }
   ],
   "source": [
    "res = requests.get('https://www.jkt48.com/member/list?lang=id')\n",
    "res.raise_for_status()\n",
    "soup = bs4.BeautifulSoup(res.text, 'html.parser')\n",
    "elems = soup.select('p.entry-member__name')\n",
    "# Print isi dari elems\n",
    "print(elems)"
   ]
  },
  {
   "cell_type": "markdown",
   "metadata": {},
   "source": [
    "## Hilangkan tag html\n",
    "Kita akan mengambil isi dari html dengan menggunakan get_text()  \n",
    "Maka tampil nama nama member yang diambil dari website jkt48, tidak ada tag html seperti pada hasil eksekusi diatas"
   ]
  },
  {
   "cell_type": "code",
   "execution_count": 12,
   "metadata": {
    "tags": []
   },
   "outputs": [
    {
     "name": "stdout",
     "output_type": "stream",
     "text": [
      "Adzana Shaliha\n",
      "Angelina Christy\n",
      "Aninditha Rahma Cahyadi\n",
      "Ariella Calista Ichwan\n",
      "Azizi Asadel\n",
      "Cindy Hapsari Maharani Pujiantoro Putri\n",
      "Cornelia Vanisa\n",
      "Dhea Angelia\n",
      "Eve Antoinette Ichwan\n",
      "Febriola Sinambela\n",
      "Feni Fitriyanti\n",
      "Fiony Alveria\n",
      "Flora Shafiq\n",
      "Fransisca Saraswati Puspa Dewi\n",
      "Freya Jayawardana\n",
      "Gabriela Margareth Warouw\n",
      "Gita Sekar Andarini\n",
      "Helisma Putri\n",
      "Indah Cahya\n",
      "Jessica Chandra\n",
      "Jesslyn Callista\n",
      "Jinan Safa Safira\n",
      "Kathrina Irene\n",
      "Lulu Salsabila\n",
      "Marsha Lenathea\n",
      "Mutiara Azzahra\n",
      "Reva Fidela\n",
      "Shani Indira Natio\n",
      "Shania Gracia\n",
      "Tan Zhi Hui Celine\n",
      "Yessica Tamara\n",
      "Alia Giselle\n",
      "Amanda Sukma\n",
      "Aurellia\n",
      "Callista Alifia\n",
      "Gabriela Abigail\n",
      "Indira Seruni\n",
      "Jesslyn Elly\n",
      "Raisha Syifa\n"
     ]
    }
   ],
   "source": [
    "for member in elems:\n",
    "    print(member.get_text(separator=' ').strip())"
   ]
  },
  {
   "cell_type": "markdown",
   "metadata": {},
   "source": [
    "## Filter member reguler dan trainee"
   ]
  },
  {
   "cell_type": "code",
   "execution_count": 13,
   "metadata": {},
   "outputs": [],
   "source": [
    "# Buat variabel bantu untuk menentukan apakah huruf pertama A atau tidak\n",
    "notA = False\n",
    "members = []\n",
    "for member in elems:\n",
    "    # Cek apakah saat looping kedua dst, ketemu huruf A.\n",
    "    # Adzana Shaliha -> looping pertama huruf A\n",
    "    # Angelina Christy -> Kedua ketemu huruf A juga jadi tetep lanjut looping -> Looping ini masuk ke X\n",
    "    # ...\n",
    "    # Cindy Hapsari Maharani Pujiantoro Putri -> Cindy bukan lagi A, jadikan variabel notA menjadi True\n",
    "    # Sampai Yessica Tamara looping akan masuk ke X\n",
    "    if member.get_text(separator=' ').strip().upper()[0] != 'A':\n",
    "        notA = True\n",
    "        # Append ke dalam list members\n",
    "        members.append(member.get_text(separator=' ').strip())\n",
    "    else:\n",
    "        # Cek apakah looping kembali lagi ke A dan notA True\n",
    "        # Sehingga notA menjadi patokan apakah ketemu A lagi, jika ketemu maka break\n",
    "        if member.get_text(separator=' ').strip().upper()[0] == 'A' and notA == True:\n",
    "            break\n",
    "        else:\n",
    "            # X\n",
    "            # Lanjut looping jika looping tidak huruf A\n",
    "            members.append(member.get_text(separator=' ').strip())"
   ]
  },
  {
   "cell_type": "code",
   "execution_count": 14,
   "metadata": {
    "tags": []
   },
   "outputs": [
    {
     "name": "stdout",
     "output_type": "stream",
     "text": [
      "Member Reguler : \n",
      "\n",
      "Adzana Shaliha\n",
      "Angelina Christy\n",
      "Aninditha Rahma Cahyadi\n",
      "Ariella Calista Ichwan\n",
      "Azizi Asadel\n",
      "Cindy Hapsari Maharani Pujiantoro Putri\n",
      "Cornelia Vanisa\n",
      "Dhea Angelia\n",
      "Eve Antoinette Ichwan\n",
      "Febriola Sinambela\n",
      "Feni Fitriyanti\n",
      "Fiony Alveria\n",
      "Flora Shafiq\n",
      "Fransisca Saraswati Puspa Dewi\n",
      "Freya Jayawardana\n",
      "Gabriela Margareth Warouw\n",
      "Gita Sekar Andarini\n",
      "Helisma Putri\n",
      "Indah Cahya\n",
      "Jessica Chandra\n",
      "Jesslyn Callista\n",
      "Jinan Safa Safira\n",
      "Kathrina Irene\n",
      "Lulu Salsabila\n",
      "Marsha Lenathea\n",
      "Mutiara Azzahra\n",
      "Reva Fidela\n",
      "Shani Indira Natio\n",
      "Shania Gracia\n",
      "Tan Zhi Hui Celine\n",
      "Yessica Tamara\n",
      "\n",
      "===Total Member : 31\n"
     ]
    }
   ],
   "source": [
    "# Print dan hitung total member tim J\n",
    "print('Member Reguler : \\n')\n",
    "for member in members:\n",
    "    print(member)\n",
    "print('\\n===Total Member : ' + str(len(members)))"
   ]
  },
  {
   "cell_type": "markdown",
   "metadata": {},
   "source": [
    "### Filter Trainee"
   ]
  },
  {
   "cell_type": "code",
   "execution_count": 15,
   "metadata": {},
   "outputs": [],
   "source": [
    "notA = False\n",
    "trainees = []\n",
    "# Dapat dilihat elems nya dimulai dan diakhiri seperti ini\n",
    "# Looping akan start dari Alia Giselle\n",
    "for member in elems[len(members):len(elems)]:\n",
    "    if member.get_text(separator=' ').strip().upper()[0] != 'A':\n",
    "        notA = True\n",
    "        trainees.append(member.get_text(separator=' ').strip())\n",
    "    else:\n",
    "        if member.get_text(separator=' ').strip().upper()[0] == 'A' and notA == True:\n",
    "            break\n",
    "        else:\n",
    "            trainees.append(member.get_text(separator=' ').strip())"
   ]
  },
  {
   "cell_type": "code",
   "execution_count": 16,
   "metadata": {
    "tags": []
   },
   "outputs": [
    {
     "name": "stdout",
     "output_type": "stream",
     "text": [
      "Member Trainee : \n",
      "\n",
      "Alia Giselle\n",
      "Amanda Sukma\n",
      "Aurellia\n",
      "Callista Alifia\n",
      "Gabriela Abigail\n",
      "Indira Seruni\n",
      "Jesslyn Elly\n",
      "Raisha Syifa\n",
      "\n",
      "===Total Member Team KIII : 8\n"
     ]
    }
   ],
   "source": [
    "# Print dan hitung member tim KIII\n",
    "print('Member Trainee : \\n')\n",
    "for member in trainees:\n",
    "    print(member)\n",
    "print('\\n===Total Member Team KIII : ' + str(len(trainees)))"
   ]
  },
  {
   "cell_type": "markdown",
   "metadata": {},
   "source": [
    "## Menghitung total member JKT48"
   ]
  },
  {
   "cell_type": "code",
   "execution_count": 17,
   "metadata": {
    "tags": []
   },
   "outputs": [
    {
     "name": "stdout",
     "output_type": "stream",
     "text": [
      "\n",
      "===Total Member JKT48 : 39\n"
     ]
    }
   ],
   "source": [
    "# Hitung jumlah total member JKT48\n",
    "print(f'\\n===Total Member JKT48 : {len(members) + len(trainees)}')"
   ]
  }
 ],
 "metadata": {
  "interpreter": {
   "hash": "83d04dbd94d2813fdee2374962c8d3edcc74f7643ed8421954cdeb8a8ce89993"
  },
  "kernelspec": {
   "display_name": "Python 3.8.5 64-bit",
   "language": "python",
   "name": "python3"
  },
  "language_info": {
   "codemirror_mode": {
    "name": "ipython",
    "version": 3
   },
   "file_extension": ".py",
   "mimetype": "text/x-python",
   "name": "python",
   "nbconvert_exporter": "python",
   "pygments_lexer": "ipython3",
   "version": "3.9.7"
  },
  "orig_nbformat": 2
 },
 "nbformat": 4,
 "nbformat_minor": 2
}
