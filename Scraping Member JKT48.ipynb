{
 "metadata": {
  "language_info": {
   "codemirror_mode": {
    "name": "ipython",
    "version": 3
   },
   "file_extension": ".py",
   "mimetype": "text/x-python",
   "name": "python",
   "nbconvert_exporter": "python",
   "pygments_lexer": "ipython3",
   "version": "3.8.5-final"
  },
  "orig_nbformat": 2,
  "kernelspec": {
   "name": "python_defaultSpec_1598332769631",
   "display_name": "Python 3.8.5 64-bit"
  }
 },
 "nbformat": 4,
 "nbformat_minor": 2,
 "cells": [
  {
   "cell_type": "markdown",
   "metadata": {},
   "source": [
    "[![Open In Colab](https://colab.research.google.com/assets/colab-badge.svg)](https://colab.research.google.com/github/andikatedja/web-scraping/blob/master/Scraping%20Member%20JKT48.ipynb)\n",
    "# Scraping sederhana member JKT48 dari website JKT48\n",
    "## Menampilkan list nama tiap tim, dan jumlah member tiap tim\n",
    "Notebook ini saya buat untuk saya belajar jupyter notebooks"
   ]
  },
  {
   "cell_type": "code",
   "execution_count": 1,
   "metadata": {},
   "outputs": [],
   "source": [
    "import bs4\n",
    "import requests"
   ]
  },
  {
   "cell_type": "markdown",
   "metadata": {},
   "source": [
    "## Scraping member yang telah masuk ke dalam tim J K T\n",
    "Mengambil informasi dari website member JKT48  "
   ]
  },
  {
   "cell_type": "code",
   "execution_count": 2,
   "metadata": {
    "tags": []
   },
   "outputs": [
    {
     "output_type": "stream",
     "name": "stdout",
     "text": "[<a href=\"/member/detail/id/124?lang=id\">Adriani<br/>Elisabeth</a>, <a href=\"/member/detail/id/220?lang=id\">Amanina<br/>Afiqah</a>, <a href=\"/member/detail/id/218?lang=id\">Aninditha<br/>Rahma<br/>Cahyadi</a>, <a href=\"/member/detail/id/186?lang=id\">Ariella<br/>Calista<br/>Ichwan</a>, <a href=\"/member/detail/id/200?lang=id\">Azizi<br/>Asadel</a>, <a href=\"/member/detail/id/134?lang=id\">Cindy Hapsari<br/>Maharani<br/>Pujiantoro Putri</a>, <a href=\"/member/detail/id/169?lang=id\">Diani<br/>Amalia<br/>Ramadhani</a>, <a href=\"/member/detail/id/171?lang=id\">Eve<br/>Antoinette<br/>Ichwan</a>, <a href=\"/member/detail/id/76?lang=id\">Feni<br/>Fitriyanti</a>, <a href=\"/member/detail/id/77?lang=id\">Fransisca<br/>Saraswati<br/>Puspa Dewi</a>, <a href=\"/member/detail/id/11?lang=id\">Frieska<br/>Anastasia<br/>Laksani</a>, <a href=\"/member/detail/id/202?lang=id\">Gabriel<br/>Angelina</a>, <a href=\"/member/detail/id/12?lang=id\">Gabriela<br/>Margareth<br/>Warouw</a>, <a href=\"/member/detail/id/148?lang=id\">Melati Putri<br/>Rahel<br/>Sesilia</a>, <a href=\"/member/detail/id/217?lang=id\">Nabila<br/>Fitriana</a>, <a href=\"/member/detail/id/41?lang=id\">Nadila<br/>Cindi<br/>Wantari</a>, <a href=\"/member/detail/id/99?lang=id\">Ni Made<br/>Ayu Vania<br/>Aurellia</a>, <a href=\"/member/detail/id/196?lang=id\">Riska<br/>Amelia<br/>Putri</a>, <a href=\"/member/detail/id/51?lang=id\">Rona<br/>Anggreani</a>, <a href=\"/member/detail/id/180?lang=id\">Sania<br/>Julia<br/>Montolalu</a>, <a href=\"/member/detail/id/185?lang=id\">Anastasya<br/>Narwastu<br/>Tety<br/>Handuran</a>, <a href=\"/member/detail/id/204?lang=id\">Angelina<br/>Christy</a>, <a href=\"/member/detail/id/66?lang=id\">Aninditha<br/>Rahma<br/>Cahyadi</a>, <a href=\"/member/detail/id/4?lang=id\">Beby<br/>Chaesara<br/>Anadila</a>, <a href=\"/member/detail/id/139?lang=id\">Fidly<br/>Immanda<br/>Azzahra</a>, <a href=\"/member/detail/id/172?lang=id\">Gabryela<br/>Marcelina</a>, <a href=\"/member/detail/id/190?lang=id\">Gita<br/>Sekar<br/>Andarini</a>, <a href=\"/member/detail/id/210?lang=id\">Helisma<br/>Putri</a>, <a href=\"/member/detail/id/144?lang=id\">Jinan<br/>Safa<br/>Safira</a>, <a href=\"/member/detail/id/193?lang=id\">Kandiya<br/>Rafa<br/>Maulidita</a>, <a href=\"/member/detail/id/88?lang=id\">Maria Genoveva<br/>Natalia Desy<br/>Purnamasari Gunawan</a>, <a href=\"/member/detail/id/199?lang=id\">Mutiara<br/>Azzahra</a>, <a href=\"/member/detail/id/175?lang=id\">Nurhayati</a>, <a href=\"/member/detail/id/195?lang=id\">Rinanda<br/>Syahputri</a>, <a href=\"/member/detail/id/112?lang=id\">Shani<br/>Indira<br/>Natio</a>, <a href=\"/member/detail/id/113?lang=id\">Shania<br/>Gracia</a>, <a href=\"/member/detail/id/209?lang=id\">Yessica<br/>Tamara</a>, <a href=\"/member/detail/id/230?lang=id\">Zahra<br/>Nur</a>, <a href=\"/member/detail/id/219?lang=id\">Amirah<br/>Fatin</a>, <a href=\"/member/detail/id/247?lang=id\">Aninditha<br/>Rahma<br/>Cahyadi</a>, <a href=\"/member/detail/id/201?lang=id\">Aurel<br/>Mayori</a>, <a href=\"/member/detail/id/221?lang=id\">Cornelia<br/>Vanisa</a>, <a href=\"/member/detail/id/208?lang=id\">Dhea<br/>Angelia</a>, <a href=\"/member/detail/id/213?lang=id\">Febriola<br/>Sinambela</a>, <a href=\"/member/detail/id/223?lang=id\">Fiony<br/>Alveria</a>, <a href=\"/member/detail/id/234?lang=id\">Flora<br/>Shafiq</a>, <a href=\"/member/detail/id/214?lang=id\">Freya<br/>Jayawardana</a>, <a href=\"/member/detail/id/215?lang=id\">Jessica<br/>Chandra</a>, <a href=\"/member/detail/id/216?lang=id\">Jesslyn<br/>Callista</a>, <a href=\"/member/detail/id/228?lang=id\">Lulu<br/>Salsabila</a>, <a href=\"/member/detail/id/235?lang=id\">Nyimas<br/>Ratu<br/>Rafa</a>, <a href=\"/member/detail/id/232?lang=id\">Reva<br/>Fidela</a>, <a href=\"/member/detail/id/160?lang=id\">Tan Zhi Hui<br/>Celine</a>, <a href=\"/member/detail/id/236?lang=id\">Umega<br/>Maulana</a>, <a href=\"/member/detail/id/203?lang=id\">Viona<br/>Fadrin</a>]\n"
    }
   ],
   "source": [
    "res = requests.get('https://www.jkt48.com/member/list?lang=id')\n",
    "res.raise_for_status()\n",
    "soup = bs4.BeautifulSoup(res.text, 'html.parser')\n",
    "elems = soup.select('div.profilename > a')\n",
    "# Print isi dari elems\n",
    "print(elems)"
   ]
  },
  {
   "cell_type": "markdown",
   "metadata": {},
   "source": [
    "## Hilangkan tag html\n",
    "Kita akan mengambil isi dari html dengan menggunakan get_text()  \n",
    "Maka tampil nama nama member yang diambil dari website jkt48, tidak ada tag html seperti pada hasil eksekusi diatas"
   ]
  },
  {
   "cell_type": "code",
   "execution_count": 3,
   "metadata": {
    "tags": []
   },
   "outputs": [
    {
     "output_type": "stream",
     "name": "stdout",
     "text": "Adriani Elisabeth\nAmanina Afiqah\nAninditha Rahma Cahyadi\nAriella Calista Ichwan\nAzizi Asadel\nCindy Hapsari Maharani Pujiantoro Putri\nDiani Amalia Ramadhani\nEve Antoinette Ichwan\nFeni Fitriyanti\nFransisca Saraswati Puspa Dewi\nFrieska Anastasia Laksani\nGabriel Angelina\nGabriela Margareth Warouw\nMelati Putri Rahel Sesilia\nNabila Fitriana\nNadila Cindi Wantari\nNi Made Ayu Vania Aurellia\nRiska Amelia Putri\nRona Anggreani\nSania Julia Montolalu\nAnastasya Narwastu Tety Handuran\nAngelina Christy\nAninditha Rahma Cahyadi\nBeby Chaesara Anadila\nFidly Immanda Azzahra\nGabryela Marcelina\nGita Sekar Andarini\nHelisma Putri\nJinan Safa Safira\nKandiya Rafa Maulidita\nMaria Genoveva Natalia Desy Purnamasari Gunawan\nMutiara Azzahra\nNurhayati\nRinanda Syahputri\nShani Indira Natio\nShania Gracia\nYessica Tamara\nZahra Nur\nAmirah Fatin\nAninditha Rahma Cahyadi\nAurel Mayori\nCornelia Vanisa\nDhea Angelia\nFebriola Sinambela\nFiony Alveria\nFlora Shafiq\nFreya Jayawardana\nJessica Chandra\nJesslyn Callista\nLulu Salsabila\nNyimas Ratu Rafa\nReva Fidela\nTan Zhi Hui Celine\nUmega Maulana\nViona Fadrin\n"
    }
   ],
   "source": [
    "for member in elems:\n",
    "    print(member.get_text(separator=' ').strip())"
   ]
  },
  {
   "cell_type": "markdown",
   "metadata": {},
   "source": [
    "## Filter member berdasarkan tim\n",
    "Sekarang agak sedikit tricky. Membagi member berdasarkan tim dan memasukkannya ke dalam list.  \n",
    "Dapat dilihat bahwa dari hasil eksekusi diatas, nama ditampilkan berurut berdasarkan huruf depan.  \n",
    "Jadi setiap tim baru maka akan dimulai dengan huruf A, tetapi sebelumnya harus melewati huruf huruf yang bukan huruf A.  \n",
    "Perhatikan julie dan tasya  \n",
    ">Sania Julia Montolalu -> Urutan terakhir untuk tim J  \n",
    ">Anastasya Narwastu Tety Handuran -> Urutan pertama untuk tim KIII  \n",
    "\n",
    "Berikut ini kode untuk memfilter tim ke dalam tim J\n",
    "\n",
    "### Filter tim J"
   ]
  },
  {
   "cell_type": "code",
   "execution_count": 4,
   "metadata": {},
   "outputs": [],
   "source": [
    "# Buat variabel bantu untuk menentukan apakah huruf pertama A atau tidak\n",
    "notA = False\n",
    "teamJ = []\n",
    "for member in elems:\n",
    "    # Cek apakah saat looping kedua dst, ketemu huruf A.\n",
    "    # Adriani Elisabeth -> looping pertama huruf A\n",
    "    # Amanina Afiqah -> Kedua ketemu huruf A juga jadi tetep lanjut looping -> Looping ini masuk ke X\n",
    "    # ...\n",
    "    # Cindy Hapsari Maharani Pujiantoro Putri -> Cindy bukan lagi A, jadikan variabel notA menjadi True\n",
    "    # Sampai Sania Julia Montolalu looping akan masuk ke X\n",
    "    if member.get_text(separator=' ').strip().upper()[0] != 'A':\n",
    "        notA = True\n",
    "        # Append ke dalam list teamJ\n",
    "        teamJ.append(member.get_text(separator=' ').strip())\n",
    "    else:\n",
    "        # Cek apakah looping kembali lagi ke A dan notA True\n",
    "        # Sehingga notA menjadi patokan apakah ketemu A lagi, jika ketemu maka break\n",
    "        if member.get_text(separator=' ').strip().upper()[0] == 'A' and notA == True:\n",
    "            break\n",
    "        else:\n",
    "            # X\n",
    "            # Lanjut looping jika looping tidak huruf A\n",
    "            teamJ.append(member.get_text(separator=' ').strip())"
   ]
  },
  {
   "cell_type": "code",
   "execution_count": 5,
   "metadata": {
    "tags": []
   },
   "outputs": [
    {
     "output_type": "stream",
     "name": "stdout",
     "text": "Member Team J : \n\nAdriani Elisabeth\nAmanina Afiqah\nAninditha Rahma Cahyadi\nAriella Calista Ichwan\nAzizi Asadel\nCindy Hapsari Maharani Pujiantoro Putri\nDiani Amalia Ramadhani\nEve Antoinette Ichwan\nFeni Fitriyanti\nFransisca Saraswati Puspa Dewi\nFrieska Anastasia Laksani\nGabriel Angelina\nGabriela Margareth Warouw\nMelati Putri Rahel Sesilia\nNabila Fitriana\nNadila Cindi Wantari\nNi Made Ayu Vania Aurellia\nRiska Amelia Putri\nRona Anggreani\nSania Julia Montolalu\n\n===Total Member Team J : 20\n"
    }
   ],
   "source": [
    "# Print dan hitung total member tim J\n",
    "print('Member Team J : \\n')\n",
    "for member in teamJ:\n",
    "    print(member)\n",
    "print('\\n===Total Member Team J : ' + str(len(teamJ)))"
   ]
  },
  {
   "cell_type": "markdown",
   "metadata": {},
   "source": [
    "### Filter tim KIII\n",
    "Tekniknya sama seperti tim J, tapi mulai looping nya dari urutan terakhir tim J  \n",
    "Jadi variabel elems nya dimulai dari panjang (len) dari variabel teamJ dan diakhiri dari panjang elems itu sendiri"
   ]
  },
  {
   "cell_type": "code",
   "execution_count": 6,
   "metadata": {},
   "outputs": [],
   "source": [
    "notA = False\n",
    "teamKIII = []\n",
    "# Dapat dilihat elems nya dimulai dan diakhiri seperti ini\n",
    "# Looping akan start dari Anastasya Narwastu Tety Handuran\n",
    "for member in elems[len(teamJ):len(elems)]:\n",
    "    if member.get_text(separator=' ').strip().upper()[0] != 'A':\n",
    "        notA = True\n",
    "        teamKIII.append(member.get_text(separator=' ').strip())\n",
    "    else:\n",
    "        if member.get_text(separator=' ').strip().upper()[0] == 'A' and notA == True:\n",
    "            break\n",
    "        else:\n",
    "            teamKIII.append(member.get_text(separator=' ').strip())"
   ]
  },
  {
   "cell_type": "code",
   "execution_count": 7,
   "metadata": {
    "tags": []
   },
   "outputs": [
    {
     "output_type": "stream",
     "name": "stdout",
     "text": "Member Team KIII : \n\nAnastasya Narwastu Tety Handuran\nAngelina Christy\nAninditha Rahma Cahyadi\nBeby Chaesara Anadila\nFidly Immanda Azzahra\nGabryela Marcelina\nGita Sekar Andarini\nHelisma Putri\nJinan Safa Safira\nKandiya Rafa Maulidita\nMaria Genoveva Natalia Desy Purnamasari Gunawan\nMutiara Azzahra\nNurhayati\nRinanda Syahputri\nShani Indira Natio\nShania Gracia\nYessica Tamara\nZahra Nur\n\n===Total Member Team KIII : 18\n"
    }
   ],
   "source": [
    "# Print dan hitung member tim KIII\n",
    "print('Member Team KIII : \\n')\n",
    "for member in teamKIII:\n",
    "    print(member)\n",
    "print('\\n===Total Member Team KIII : ' + str(len(teamKIII)))"
   ]
  },
  {
   "cell_type": "markdown",
   "metadata": {},
   "source": [
    "### Filter tim T\n",
    "Tekniknya sama seperti tim J dan KIII, tapi mulai looping nya dari urutan terakhir tim KIII  \n",
    "Jadi variabel elems nya dimulai dari panjang (len) dari variabel teamKIII dan diakhiri dari panjang elems itu sendiri"
   ]
  },
  {
   "cell_type": "code",
   "execution_count": 8,
   "metadata": {},
   "outputs": [],
   "source": [
    "notA = False\n",
    "teamT = []\n",
    "# Looping dimulai dari Amirah Fatin\n",
    "for member in elems[len(teamJ) + len(teamKIII):len(elems)]:\n",
    "    if member.get_text(separator=' ').strip().upper()[0] != 'A':\n",
    "        notA = True\n",
    "        teamT.append(member.get_text(separator=' ').strip())\n",
    "    else:\n",
    "        if member.get_text(separator=' ').strip().upper()[0] == 'A' and notA == True:\n",
    "            break\n",
    "        else:\n",
    "            teamT.append(member.get_text(separator=' ').strip())"
   ]
  },
  {
   "cell_type": "code",
   "execution_count": 9,
   "metadata": {
    "tags": []
   },
   "outputs": [
    {
     "output_type": "stream",
     "name": "stdout",
     "text": "Member Team T : \n\nAmirah Fatin\nAninditha Rahma Cahyadi\nAurel Mayori\nCornelia Vanisa\nDhea Angelia\nFebriola Sinambela\nFiony Alveria\nFlora Shafiq\nFreya Jayawardana\nJessica Chandra\nJesslyn Callista\nLulu Salsabila\nNyimas Ratu Rafa\nReva Fidela\nTan Zhi Hui Celine\nUmega Maulana\nViona Fadrin\n\n===Total Member Team T : 17\n"
    }
   ],
   "source": [
    "print('Member Team T : \\n')\n",
    "for member in teamT:\n",
    "    print(member)\n",
    "print('\\n===Total Member Team T : ' + str(len(teamT)))"
   ]
  },
  {
   "cell_type": "markdown",
   "metadata": {},
   "source": [
    "## Mencari kennin member\n",
    "Kennin member adalah member yang masuk ke dalam lebih dari 1 tim  \n",
    "Pertama tama kita akan mencari kennin 'J K T', 'J K', dan 'J T'  \n",
    "Kemudian kita akan mencari kennin 'K T'"
   ]
  },
  {
   "cell_type": "code",
   "execution_count": 10,
   "metadata": {},
   "outputs": [],
   "source": [
    "kennin = 0\n",
    "kenninMember = {}\n",
    "# Mencari kennin member 'J K T', 'J K', 'J T'\n",
    "for i in range(len(teamJ)):\n",
    "    # Jika nama member di tim J ada juga di tim K dan tim T, maka dia triple team J K T\n",
    "    if teamJ[i] in teamKIII and teamJ[i] in teamT:\n",
    "        kennin += 2\n",
    "        kenninMember[teamJ[i]] = ['J', 'K', 'T']\n",
    "    # Jika nama member di tim J ada juga di tim K, maka dia double team J K\n",
    "    elif teamJ[i] in teamKIII:\n",
    "        kennin += 1\n",
    "        kenninMember[teamJ[i]] = ['J', 'K']\n",
    "    # Jika nama member di tim J ada juga di tim T, maka dia double team J T\n",
    "    elif teamJ[i] in teamT:\n",
    "        kennin += 1\n",
    "        kenninMember[teamJ[i]] = ['J', 'T']\n",
    "\n",
    "# Mencari kennin member 'K T'\n",
    "for i in range(len(teamKIII)):\n",
    "    if teamKIII[i] in teamT:\n",
    "        # Jika nama member di tim K ini tidak masuk ke dalam variabel kenninMember, artinya dia double team K T\n",
    "        # Jika ada artinya dia sudah masuk ke dalam triple team J K T\n",
    "        if teamKIII[i] not in kenninMember:\n",
    "            kennin += 1\n",
    "            kenninMember[teamKIII[i]] = ['K', 'T']"
   ]
  },
  {
   "cell_type": "code",
   "execution_count": 11,
   "metadata": {
    "tags": []
   },
   "outputs": [
    {
     "output_type": "stream",
     "name": "stdout",
     "text": "Kennin : 1 Member\nAninditha Rahma Cahyadi => ['J', 'K', 'T']\n"
    }
   ],
   "source": [
    "# Hitung dan print kennin member\n",
    "print('Kennin : ' + str(len(kenninMember)) + ' Member')\n",
    "for member, team in kenninMember.items():\n",
    "    print(member, '=>', team)"
   ]
  },
  {
   "cell_type": "markdown",
   "metadata": {},
   "source": [
    "## Scraping member Academy\n",
    "Mengambil informasi dari website academy JKT48"
   ]
  },
  {
   "cell_type": "code",
   "execution_count": 12,
   "metadata": {},
   "outputs": [],
   "source": [
    "res = requests.get('https://www.jkt48.com/jkt48-academy/member-academy')\n",
    "res.raise_for_status()\n",
    "soup = bs4.BeautifulSoup(res.text, 'html.parser')\n",
    "elems = soup.select('p.name-member')\n"
   ]
  },
  {
   "cell_type": "code",
   "execution_count": 13,
   "metadata": {},
   "outputs": [],
   "source": [
    "# Memasukkan nama nama member ke dalam variabel academyA\n",
    "academyA = []\n",
    "for member in elems:\n",
    "    academyA.append(member.get_text(separator=' ').strip())"
   ]
  },
  {
   "cell_type": "code",
   "execution_count": 14,
   "metadata": {
    "tags": []
   },
   "outputs": [
    {
     "output_type": "stream",
     "name": "stdout",
     "text": "Member Academy Class A : \nAdzana Shaliha\nCaithlyn Gwyneth\nChalista Ellysia\nChristabel Jocelyn\nCindy Nugroho\nFebi Komaril\nFebrina Diponegoro\nGabriella Stevany\nIndah Cahya\nKathrina Irene\nKeisya Ramadhani\nMarsha Lenathea\nNabila Gusmarlia\nPutri Elzahra\nSalma Annisa\nShalza Grasita\nShinta Devi\n\n===Total Member Academy A : 17\n"
    }
   ],
   "source": [
    "# Hitung dan print member academy\n",
    "print('Member Academy Class A : ')\n",
    "for member in academyA:\n",
    "    print(member)\n",
    "print('\\n===Total Member Academy A : ' + str(len(academyA)))"
   ]
  },
  {
   "cell_type": "markdown",
   "metadata": {},
   "source": [
    "## Menghitung total member JKT48\n",
    "Jumlah tim J + tim K + tim T + academy - kennin  \n",
    "Variabel kennin berfungsi untuk mengurangi jumlah dari semuanya"
   ]
  },
  {
   "cell_type": "code",
   "execution_count": 15,
   "metadata": {
    "tags": []
   },
   "outputs": [
    {
     "output_type": "stream",
     "name": "stdout",
     "text": "\n===Total Member JKT48 : 70\n"
    }
   ],
   "source": [
    "# Hitung jumlah total member JKT48\n",
    "print('\\n===Total Member JKT48 : ' +\n",
    "      str(len(teamJ) + len(teamKIII) + len(teamT) + len(academyA) - kennin))"
   ]
  }
 ]
}