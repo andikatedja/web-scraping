{
 "metadata": {
  "language_info": {
   "codemirror_mode": {
    "name": "ipython",
    "version": 3
   },
   "file_extension": ".py",
   "mimetype": "text/x-python",
   "name": "python",
   "nbconvert_exporter": "python",
   "pygments_lexer": "ipython3",
   "version": "3.8.5-final"
  },
  "orig_nbformat": 2,
  "kernelspec": {
   "name": "python_defaultSpec_1598326548065",
   "display_name": "Python 3.8.5 64-bit"
  }
 },
 "nbformat": 4,
 "nbformat_minor": 2,
 "cells": [
  {
   "cell_type": "markdown",
   "metadata": {},
   "source": [
    "# Scraping sederhana member JKT48 dari website JKT48\n",
    "## Menampilkan list nama tiap tim, dan jumlah member tiap tim\n",
    "Notebook ini saya buat untuk saya belajar jupyter notebooks"
   ]
  },
  {
   "cell_type": "code",
   "execution_count": null,
   "metadata": {},
   "outputs": [],
   "source": [
    "import bs4\n",
    "import requests"
   ]
  },
  {
   "cell_type": "markdown",
   "metadata": {},
   "source": [
    "## Scraping member yang telah masuk ke dalam tim J K T\n",
    "Mengambil informasi dari website member JKT48  "
   ]
  },
  {
   "cell_type": "code",
   "execution_count": null,
   "metadata": {
    "tags": []
   },
   "outputs": [],
   "source": [
    "res = requests.get('https://www.jkt48.com/member/list?lang=id')\n",
    "res.raise_for_status()\n",
    "soup = bs4.BeautifulSoup(res.text, 'html.parser')\n",
    "elems = soup.select('div.profilename > a')\n",
    "# Print isi dari elems\n",
    "print(elems)"
   ]
  },
  {
   "cell_type": "markdown",
   "metadata": {},
   "source": [
    "## Hilangkan tag html\n",
    "Kita akan mengambil isi dari html dengan menggunakan get_text()  \n",
    "Maka tampil nama nama member yang diambil dari website jkt48, tidak ada tag html seperti pada hasil eksekusi diatas"
   ]
  },
  {
   "cell_type": "code",
   "execution_count": null,
   "metadata": {
    "tags": []
   },
   "outputs": [],
   "source": [
    "for member in elems:\n",
    "    print(member.get_text(separator=' ').strip())"
   ]
  },
  {
   "cell_type": "markdown",
   "metadata": {},
   "source": [
    "## Filter member berdasarkan tim\n",
    "Sekarang agak sedikit tricky. Membagi member berdasarkan tim dan memasukkannya ke dalam list.  \n",
    "Dapat dilihat bahwa dari hasil eksekusi diatas, nama ditampilkan berurut berdasarkan huruf depan.  \n",
    "Jadi setiap tim baru maka akan dimulai dengan huruf A, tetapi sebelumnya harus melewati huruf huruf yang bukan huruf A.  \n",
    "Perhatikan julie dan tasya  \n",
    ">Sania Julia Montolalu -> Urutan terakhir untuk tim J  \n",
    ">Anastasya Narwastu Tety Handuran -> Urutan pertama untuk tim KIII  \n",
    "\n",
    "Berikut ini kode untuk memfilter tim ke dalam tim J\n",
    "\n",
    "### Filter tim J"
   ]
  },
  {
   "cell_type": "code",
   "execution_count": null,
   "metadata": {},
   "outputs": [],
   "source": [
    "# Buat variabel bantu untuk menentukan apakah huruf pertama A atau tidak\n",
    "notA = False\n",
    "teamJ = []\n",
    "for member in elems:\n",
    "    # Cek apakah saat looping kedua dst, ketemu huruf A.\n",
    "    # Adriani Elisabeth -> looping pertama huruf A\n",
    "    # Amanina Afiqah -> Kedua ketemu huruf A juga jadi tetep lanjut looping -> Looping ini masuk ke X\n",
    "    # ...\n",
    "    # Cindy Hapsari Maharani Pujiantoro Putri -> Cindy bukan lagi A, jadikan variabel notA menjadi True\n",
    "    # Sampai Sania Julia Montolalu looping akan masuk ke X\n",
    "    if member.get_text(separator=' ').strip().upper()[0] != 'A':\n",
    "        notA = True\n",
    "        # Append ke dalam list teamJ\n",
    "        teamJ.append(member.get_text(separator=' ').strip())\n",
    "    else:\n",
    "        # Cek apakah looping kembali lagi ke A dan notA True\n",
    "        # Sehingga notA menjadi patokan apakah ketemu A lagi, jika ketemu maka break\n",
    "        if member.get_text(separator=' ').strip().upper()[0] == 'A' and notA == True:\n",
    "            break\n",
    "        else:\n",
    "            # X\n",
    "            # Lanjut looping jika looping tidak huruf A\n",
    "            teamJ.append(member.get_text(separator=' ').strip())"
   ]
  },
  {
   "cell_type": "code",
   "execution_count": null,
   "metadata": {
    "tags": []
   },
   "outputs": [],
   "source": [
    "# Print dan hitung total member tim J\n",
    "print('Member Team J : \\n')\n",
    "for member in teamJ:\n",
    "    print(member)\n",
    "print('\\n===Total Member Team J : ' + str(len(teamJ)))"
   ]
  },
  {
   "cell_type": "markdown",
   "metadata": {},
   "source": [
    "### Filter tim KIII\n",
    "Tekniknya sama seperti tim J, tapi mulai looping nya dari urutan terakhir tim J  \n",
    "Jadi variabel elems nya dimulai dari panjang (len) dari variabel teamJ dan diakhiri dari panjang elems itu sendiri"
   ]
  },
  {
   "cell_type": "code",
   "execution_count": null,
   "metadata": {},
   "outputs": [],
   "source": [
    "notA = False\n",
    "teamKIII = []\n",
    "# Dapat dilihat elems nya dimulai dan diakhiri seperti ini\n",
    "# Looping akan start dari Anastasya Narwastu Tety Handuran\n",
    "for member in elems[len(teamJ):len(elems)]:\n",
    "    if member.get_text(separator=' ').strip().upper()[0] != 'A':\n",
    "        notA = True\n",
    "        teamKIII.append(member.get_text(separator=' ').strip())\n",
    "    else:\n",
    "        if member.get_text(separator=' ').strip().upper()[0] == 'A' and notA == True:\n",
    "            break\n",
    "        else:\n",
    "            teamKIII.append(member.get_text(separator=' ').strip())"
   ]
  },
  {
   "cell_type": "code",
   "execution_count": null,
   "metadata": {
    "tags": []
   },
   "outputs": [],
   "source": [
    "# Print dan hitung member tim KIII\n",
    "print('Member Team KIII : \\n')\n",
    "for member in teamKIII:\n",
    "    print(member)\n",
    "print('\\n===Total Member Team KIII : ' + str(len(teamKIII)))"
   ]
  },
  {
   "cell_type": "markdown",
   "metadata": {},
   "source": [
    "### Filter tim T\n",
    "Tekniknya sama seperti tim J dan KIII, tapi mulai looping nya dari urutan terakhir tim KIII  \n",
    "Jadi variabel elems nya dimulai dari panjang (len) dari variabel teamKIII dan diakhiri dari panjang elems itu sendiri"
   ]
  },
  {
   "cell_type": "code",
   "execution_count": null,
   "metadata": {},
   "outputs": [],
   "source": [
    "notA = False\n",
    "teamT = []\n",
    "# Looping dimulai dari Amirah Fatin\n",
    "for member in elems[len(teamJ) + len(teamKIII):len(elems)]:\n",
    "    if member.get_text(separator=' ').strip().upper()[0] != 'A':\n",
    "        notA = True\n",
    "        teamT.append(member.get_text(separator=' ').strip())\n",
    "    else:\n",
    "        if member.get_text(separator=' ').strip().upper()[0] == 'A' and notA == True:\n",
    "            break\n",
    "        else:\n",
    "            teamT.append(member.get_text(separator=' ').strip())"
   ]
  },
  {
   "cell_type": "code",
   "execution_count": null,
   "metadata": {
    "tags": []
   },
   "outputs": [],
   "source": [
    "print('Member Team T : \\n')\n",
    "for member in teamT:\n",
    "    print(member)\n",
    "print('\\n===Total Member Team T : ' + str(len(teamT)))"
   ]
  },
  {
   "cell_type": "markdown",
   "metadata": {},
   "source": [
    "## Mencari kennin member\n",
    "Kennin member adalah member yang masuk ke dalam lebih dari 1 tim  \n",
    "Pertama tama kita akan mencari kennin 'J K T', 'J K', dan 'J T'  \n",
    "Kemudian kita akan mencari kennin 'K T'"
   ]
  },
  {
   "cell_type": "code",
   "execution_count": null,
   "metadata": {},
   "outputs": [],
   "source": [
    "kennin = 0\n",
    "kenninMember = {}\n",
    "# Mencari kennin member 'J K T', 'J K', 'J T'\n",
    "for i in range(len(teamJ)):\n",
    "    # Jika nama member di tim J ada juga di tim K dan tim T, maka dia triple team J K T\n",
    "    if teamJ[i] in teamKIII and teamJ[i] in teamT:\n",
    "        kennin += 2\n",
    "        kenninMember[teamJ[i]] = ['J', 'K', 'T']\n",
    "    # Jika nama member di tim J ada juga di tim K, maka dia double team J K\n",
    "    elif teamJ[i] in teamKIII:\n",
    "        kennin += 1\n",
    "        kenninMember[teamJ[i]] = ['J', 'K']\n",
    "    # Jika nama member di tim J ada juga di tim T, maka dia double team J T\n",
    "    elif teamJ[i] in teamT:\n",
    "        kennin += 1\n",
    "        kenninMember[teamJ[i]] = ['J', 'T']\n",
    "\n",
    "# Mencari kennin member 'K T'\n",
    "for i in range(len(teamKIII)):\n",
    "    if teamKIII[i] in teamT:\n",
    "        # Jika nama member di tim K ini tidak masuk ke dalam variabel kenninMember, artinya dia double team K T\n",
    "        # Jika ada artinya dia sudah masuk ke dalam triple team J K T\n",
    "        if teamKIII[i] not in kenninMember:\n",
    "            kennin += 1\n",
    "            kenninMember[teamKIII[i]] = ['K', 'T']"
   ]
  },
  {
   "cell_type": "code",
   "execution_count": null,
   "metadata": {
    "tags": []
   },
   "outputs": [],
   "source": [
    "# Hitung dan print kennin member\n",
    "print('Kennin : ' + str(len(kenninMember)) + ' Member')\n",
    "for member, team in kenninMember.items():\n",
    "    print(member, '=>', team)"
   ]
  },
  {
   "cell_type": "markdown",
   "metadata": {},
   "source": [
    "## Scraping member Academy\n",
    "Mengambil informasi dari website academy JKT48"
   ]
  },
  {
   "cell_type": "code",
   "execution_count": null,
   "metadata": {},
   "outputs": [],
   "source": [
    "res = requests.get('https://www.jkt48.com/jkt48-academy/member-academy')\n",
    "res.raise_for_status()\n",
    "soup = bs4.BeautifulSoup(res.text, 'html.parser')\n",
    "elems = soup.select('p.name-member')\n"
   ]
  },
  {
   "cell_type": "code",
   "execution_count": null,
   "metadata": {},
   "outputs": [],
   "source": [
    "# Memasukkan nama nama member ke dalam variabel academyA\n",
    "academyA = []\n",
    "for member in elems:\n",
    "    academyA.append(member.get_text(separator=' ').strip())"
   ]
  },
  {
   "cell_type": "code",
   "execution_count": null,
   "metadata": {
    "tags": []
   },
   "outputs": [],
   "source": [
    "# Hitung dan print member academy\n",
    "print('Member Academy Class A : ')\n",
    "for member in academyA:\n",
    "    print(member)\n",
    "print('\\n===Total Member Academy A : ' + str(len(academyA)))"
   ]
  },
  {
   "cell_type": "markdown",
   "metadata": {},
   "source": [
    "## Menghitung total member JKT48\n",
    "Jumlah tim J + tim K + tim T + academy - kennin  \n",
    "Variabel kennin berfungsi untuk mengurangi jumlah dari semuanya"
   ]
  },
  {
   "cell_type": "code",
   "execution_count": null,
   "metadata": {
    "tags": []
   },
   "outputs": [],
   "source": [
    "# Hitung jumlah total member JKT48\n",
    "print('\\n===Total Member JKT48 : ' +\n",
    "      str(len(teamJ) + len(teamKIII) + len(teamT) + len(academyA) - kennin))"
   ]
  }
 ]
}